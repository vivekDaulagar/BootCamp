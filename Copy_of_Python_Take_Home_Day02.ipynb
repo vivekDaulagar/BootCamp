{
  "nbformat": 4,
  "nbformat_minor": 0,
  "metadata": {
    "colab": {
      "name": "Copy of Python-Take-Home-Day02.ipynb",
      "provenance": [],
      "collapsed_sections": [
        "k2L4TwpQAbWc",
        "BQW_KWfjDI7m"
      ]
    },
    "kernelspec": {
      "name": "python3",
      "display_name": "Python 3"
    },
    "language_info": {
      "name": "python"
    }
  },
  "cells": [
    {
      "cell_type": "markdown",
      "source": [
        "# **Problems**"
      ],
      "metadata": {
        "id": "-ebJhzZgAZdI"
      }
    },
    {
      "cell_type": "markdown",
      "source": [
        "## **Problem 01**\n",
        "\n",
        "### **Figures to Words (Western Style)**\n",
        "\n",
        "Write a function to convert figures to words in Western Number System using Dictionary:\n",
        "\n",
        "1367 -> \"One thousand three hundred and sixty seven\"\n",
        "\n",
        "189,343,45 -> \"Eighteen million nine hundred and thirty four thousand three hundred and forty five\"\n",
        "\n",
        "**Note:** You can assume that the numbers are below 1 trillion"
      ],
      "metadata": {
        "id": "k2L4TwpQAbWc"
      }
    },
    {
      "cell_type": "code",
      "source": [
        "pip install num2word"
      ],
      "metadata": {
        "colab": {
          "base_uri": "https://localhost:8080/"
        },
        "id": "Y9te30nvfkvF",
        "outputId": "9e3b237e-6e94-427c-9fc1-284b2af39656"
      },
      "execution_count": null,
      "outputs": [
        {
          "output_type": "stream",
          "name": "stdout",
          "text": [
            "Looking in indexes: https://pypi.org/simple, https://us-python.pkg.dev/colab-wheels/public/simple/\n",
            "Collecting num2word\n",
            "  Downloading num2word-1.0.1-py3-none-any.whl (9.5 kB)\n",
            "Installing collected packages: num2word\n",
            "Successfully installed num2word-1.0.1\n"
          ]
        }
      ]
    },
    {
      "cell_type": "code",
      "execution_count": null,
      "metadata": {
        "id": "OffQ1Il7APe4",
        "colab": {
          "base_uri": "https://localhost:8080/",
          "height": 35
        },
        "outputId": "06b5c661-50f3-4895-825c-c416f2b44388"
      },
      "outputs": [
        {
          "output_type": "execute_result",
          "data": {
            "text/plain": [
              "'Eighteen million nine hundred and thirty four thousand three hundred and forty five'"
            ],
            "application/vnd.google.colaboratory.intrinsic+json": {
              "type": "string"
            }
          },
          "metadata": {},
          "execution_count": 23
        }
      ],
      "source": [
        "def figures2words(n: int) -> str:\n",
        "    from num2words import num2words\n",
        "    k=num2words(18934345, lang ='en')\n",
        "    res=\"\"\n",
        "    for i in range(len(k)):\n",
        "      if(k[i].isalpha()):\n",
        "        if(i==0):\n",
        "          res=res+k[i]\n",
        "          res=res.upper()\n",
        "        else:\n",
        "          res=res+k[i]\n",
        "      elif(k[i].isspace()):\n",
        "        res=res+k[i]\n",
        "      elif(k[i]==\"-\"):\n",
        "        res=res+\" \"\n",
        "    return res\n",
        "\n",
        "figures2words(18934345)"
      ]
    },
    {
      "cell_type": "markdown",
      "source": [
        "## **Problem 02**\n",
        "\n",
        "### **Roman to Arabic and Arabic to Roman**\n",
        "\n",
        "Implement two functions that converts roman number to arabic number and vice versa\n",
        "\n",
        "Example:\n",
        "\n",
        " > roman2arabic(\"V\") --> 5\n",
        "\n",
        " > arabic2roman(9) --> \"IX\""
      ],
      "metadata": {
        "id": "BQW_KWfjDI7m"
      }
    },
    {
      "cell_type": "code",
      "source": [
        "def roman2arabic(roman_number: str) -> int:\n",
        "    number=roman_number\n",
        "    number = number.upper().replace(\" \", \"\")\n",
        "    numerals = { 1000: \"M\", 900: \"CM\", 500: \"D\", 400: \"CD\", 100: \"C\", 90: \"XC\", 50: \"L\", 40: \"XL\", 10: \"X\", 9: \"IX\", 5: \"V\", 4: \"IV\", 1: \"I\" }\n",
        "    result = 0\n",
        "    for value in sorted(numerals, reverse=True):\n",
        "        key = numerals[value]\n",
        "        while (number.find(key) == 0):\n",
        "            result += value\n",
        "            number = number[len(key):]   \n",
        "    return result\n",
        "\n",
        "def arabic2roman(arabic_number: int) -> str:\n",
        "    ## Write Code Here\n",
        "    numerals = { 1000: \"M\", 900: \"CM\", 500: \"D\", 400: \"CD\", 100: \"C\", 90: \"XC\", 50: \"L\", 40: \"XL\", 10: \"X\", 9: \"IX\", 5: \"V\", 4: \"IV\", 1: \"I\" }\n",
        "    result = \"\"\n",
        "    number=arabic_number\n",
        "    for value in sorted(numerals, reverse=True):\n",
        "        key = numerals[value]\n",
        "        t=(number//value)\n",
        "        result += str(key*t)\n",
        "        number %= value;\n",
        "        \n",
        "    return result\n",
        "\n",
        "print(roman2arabic(\"IX\"))\n",
        "print(arabic2roman(29))\n",
        "\n"
      ],
      "metadata": {
        "id": "4JEWOgyODJlz",
        "colab": {
          "base_uri": "https://localhost:8080/"
        },
        "outputId": "383d7dc9-6efa-44e2-8d13-4457f6de4216"
      },
      "execution_count": null,
      "outputs": [
        {
          "output_type": "stream",
          "name": "stdout",
          "text": [
            "9\n",
            "XXIX\n"
          ]
        }
      ]
    }
  ]
}