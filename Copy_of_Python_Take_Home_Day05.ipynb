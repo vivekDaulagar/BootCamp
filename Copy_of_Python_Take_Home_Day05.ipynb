{
  "nbformat": 4,
  "nbformat_minor": 0,
  "metadata": {
    "colab": {
      "name": "Copy of Python-Take-Home-Day05.ipynb",
      "provenance": [],
      "collapsed_sections": [
        "y8qekle923fN"
      ]
    },
    "kernelspec": {
      "name": "python3",
      "display_name": "Python 3"
    },
    "language_info": {
      "name": "python"
    }
  },
  "cells": [
    {
      "cell_type": "markdown",
      "source": [
        "# **Problems**"
      ],
      "metadata": {
        "id": "2xF0vbiW0lOZ"
      }
    },
    {
      "cell_type": "markdown",
      "source": [
        "## **Problem 01**\n",
        "\n",
        "### **Sales Person**\n",
        "\n",
        "Suppose you are an owner of a company. You have several salespersons. They buy products from the factories and sell products to people.\n",
        "\n",
        "* Create a class called Salesperson as follows:\n",
        "* Each instance of the Salesperson class will hold the following information: name, record, and value\n",
        "    * The name is a string, which is the salesperson's name.\n",
        "    * The record is a dictionary of products in stock.\n",
        "        - For the record, the key is the item name, and the value is a list with two elements ```[cost, quantity]```.\n",
        "        - Cost is the cost of the item, quantity is the quantity of the item the salespersons have.\n",
        "    * Value is a float number, which is their current profit/loss.\n",
        "\n",
        "**Your task is to implement the following class methods:**\n",
        "\n",
        "1. **```__init__(self, name)```:** the constructor creates a salesperson instance with a given name. After initialization, the record is an empty dictionary and the value is 0.\n",
        "2. **```get_name(self)```:** returns the name of the salesman\n",
        "3. **```buy_pro(self, product_name, market_price, quantity)```:** buy a product, ```(product_name, market_price, quantity)```, to owner's record. You need to update the record and value. If the product is in the record, update the values of ```record[product_name]```; if not, create a new key.\n",
        "4. **```sell_pro(self, product_name, market_price, quantity)```:** sell a product, ```(product_name, market_price, quantity)```, to owner's record. You need to update the record and value. Update the values of ```record[product_name]```. After the update, if the quantity becomes zero, delete the key.\n",
        "5. **```get_record(self)```:** returns the owner's product record.\n",
        "6. **```get_value(self)```:** returns the value in the account."
      ],
      "metadata": {
        "id": "tNlmpzRg0m_g"
      }
    },
    {
      "cell_type": "code",
      "source": [
        "class Salesperson:\n",
        "  def __init__(self,name:str):\n",
        "    self.name=name\n",
        "    self.value=0\n",
        "    self.record={}\n",
        "  def get_name(self):\n",
        "    return self.name\n",
        "  def buy_pro(self, product_name, market_price, quantity):\n",
        "    if(self.record.__contains__(product_name)):\n",
        "      x=self.record.get(product_name)\n",
        "      x[0]=market_price\n",
        "      x[1]=quantity\n",
        "    else:\n",
        "      x=[]\n",
        "      self.record.update({product_name : [market_price,quantity]})\n",
        "    \n",
        "  def sell_pro(self, product_name, market_price, quantity):\n",
        "    if(self.record.__contains__(product_name)):\n",
        "       x=self.record.get(product_name)\n",
        "       if(x[1]>=1):\n",
        "        x[1]=x[1]-quantity\n",
        "        self.value += (market_price-x[0])*quantity\n",
        "       if(x[1]==0):\n",
        "        record=self.record.pop(product_name)\n",
        "      \n",
        "  def get_record(self):\n",
        "    return self.record\n",
        "  def get_value(self):\n",
        "    return self.value\n",
        "\n",
        "person_A = Salesperson(\"Manish\")\n",
        "print(person_A.get_name())\n",
        "person_A.buy_pro(\"apple\", 10, 10)\n",
        "person_A.buy_pro(\"chocolate\", 5, 20)\n",
        "person_A.buy_pro(\"biscuit\", 25, 5)\n",
        "print(person_A.get_record())\n",
        "person_A.sell_pro(\"apple\", 10, 10)\n",
        "person_A.sell_pro(\"chocolate\", 5, 20)\n",
        "person_A.sell_pro(\"biscuit\", 30, 2)\n",
        "print(person_A.get_record())\n",
        "person_A.sell_pro(\"biscuit\", 25, 3)\n",
        "person_A.get_value()\n",
        "      "
      ],
      "metadata": {
        "id": "N-qXKXvooO2K",
        "outputId": "87fb4c32-9f0f-4c58-d04a-fba6d5ff1d63",
        "colab": {
          "base_uri": "https://localhost:8080/"
        }
      },
      "execution_count": null,
      "outputs": [
        {
          "output_type": "stream",
          "name": "stdout",
          "text": [
            "Manish\n",
            "{'apple': [10, 10], 'chocolate': [5, 20], 'biscuit': [25, 5]}\n",
            "{'biscuit': [25, 3]}\n"
          ]
        },
        {
          "output_type": "execute_result",
          "data": {
            "text/plain": [
              "10"
            ]
          },
          "metadata": {},
          "execution_count": 44
        }
      ]
    },
    {
      "cell_type": "markdown",
      "source": [
        "## **Problem 02**\n",
        "\n",
        "### **Student Records**\n",
        "\n",
        "You are given a file records.csv containing the data for few students. Kindly take a look at the file. In this question, you shall write a Python class called Records, which shall have four methods, and two member dictionaries The first dictionary shall be used to store student records, and the second a GPA scale:\n",
        "\n",
        "1. **__init__(self, filename):**\n",
        "This is the constructor method for the class. It should take the filename given as input (e.g. records.csv), and populate the first dictionary as follows:\n",
        "    * the keys of the dictionary should be student names\n",
        "    * the values of the dictionary should be a list, containing Department Year, Course1 grade, Course2 grade,Course3 grade, and Course4 grade. This is the information that appears in the file records.csv for each student. E.g. ```{'Jd': ['CS', 'Fresher', 'C+', 'D+' , 'F', 'D-'], ...}```\n",
        "\n",
        "This method should also populate the second dictionary, a grade-to-numerical value map, whose keys should be the letter grades from A+ to F, and whose values should be the numerical GPA for the letter grade that Purdue has in its grading system, e.g.\n",
        "```python\n",
        "{\n",
        "    'A+': 4.3,\n",
        "    'A': 4.0,\n",
        "    'A-': 3.7,\n",
        "    'B+': 3.3,\n",
        "    'B': 3.0,\n",
        "    'B-': 2.7,\n",
        "    'C+': 2.3,\n",
        "    'C': 2.0,\n",
        "    'C-': 1.7,\n",
        "    'D+': 1.3,\n",
        "    'D': 1.0,\n",
        "    'D-': 0.7,\n",
        "    'F': 0.0\n",
        "}\n",
        "```\n",
        "2. **get_records(self, student):**\n",
        "This methods should take a student name as input, and look up the record of this student in the first dictionary created by the __init__() method. If the student exists in the records, then it should return the student's record which will be a list. If the student does not exist, then it should return a string saying **\"No record for <student> found!\"** (replace **<student>** with its actually string value).\n",
        "3. **insert_record(self, info):** \n",
        "This method should take a list containing a record for a student as input, e g. ```['Jason','Philosophy','Fresher','A','B','C','D']```, and insert it in the first dictionary prepared by the **__init__()** method. So after running this method, there should be a record for student Jason in dictionary, i.e. an entry like ```{..., 'Jason': ['Philosophy','Fresher','A','B','C','D'],...}```\n",
        "4. **compute_gpa(self, student):**\n",
        "This method shall take a student name as input. If the student exists in the first dictionary, then it should use the second dictionary, the grading scales, to compute and return the gpa for this student. Assume that each of the four courses whose grades are recorded are of 4 credit hours. If there is no record for the student passed as input, then the method should return a String saying **\"No record for <student> found!\"**."
      ],
      "metadata": {
        "id": "y8qekle923fN"
      }
    },
    {
      "cell_type": "code",
      "source": [
        "from typing import List, Union\n",
        "\n",
        "class Records:\n",
        "    \n",
        "\n",
        "student_record = Records('<cdn_link>/records.csv')\n",
        "print(student_record.get_records('Gary'))\n",
        "print(student_record.get_records('Manish'))\n",
        "student_record.insert_record(['Manish', 'CS', 'Graduate', 'A', 'A+', 'B+', 'A+'])\n",
        "print(student_record.get_records('Manish'))\n",
        "print(student_record.compute_gpa('Manish'))"
      ],
      "metadata": {
        "id": "-TnqEycy2jXr"
      },
      "execution_count": null,
      "outputs": []
    },
    {
      "cell_type": "code",
      "source": [
        "dir(gspread)"
      ],
      "metadata": {
        "colab": {
          "base_uri": "https://localhost:8080/"
        },
        "id": "TPeToOALkLmh",
        "outputId": "dfac715d-33c7-4442-aad6-15094895b693"
      },
      "execution_count": null,
      "outputs": [
        {
          "output_type": "execute_result",
          "data": {
            "text/plain": [
              "['Cell',\n",
              " 'CellNotFound',\n",
              " 'Client',\n",
              " 'GSpreadException',\n",
              " 'IncorrectCellLabel',\n",
              " 'NoValidUrlKeyFound',\n",
              " 'Spreadsheet',\n",
              " 'SpreadsheetNotFound',\n",
              " 'Worksheet',\n",
              " 'WorksheetNotFound',\n",
              " '__author__',\n",
              " '__builtins__',\n",
              " '__cached__',\n",
              " '__doc__',\n",
              " '__file__',\n",
              " '__loader__',\n",
              " '__name__',\n",
              " '__package__',\n",
              " '__path__',\n",
              " '__spec__',\n",
              " '__version__',\n",
              " 'authorize',\n",
              " 'client',\n",
              " 'exceptions',\n",
              " 'models',\n",
              " 'urls',\n",
              " 'utils']"
            ]
          },
          "metadata": {},
          "execution_count": 3
        }
      ]
    },
    {
      "cell_type": "code",
      "source": [
        ""
      ],
      "metadata": {
        "id": "_ANOKTBrhwqt"
      },
      "execution_count": null,
      "outputs": []
    },
    {
      "cell_type": "code",
      "source": [
        "from typing import List\n",
        "import csv\n",
        "from csv import writer\n",
        "\n",
        "class Records:\n",
        "\n",
        "    def __init__(self,file_name: str):\n",
        "        self.file_name = file_name\n",
        "        self.student_records = {}\n",
        "        self.GPA_scale = {'A+': 4.3,\n",
        "                'A': 4.0,\n",
        "                'A-': 3.7,\n",
        "                'B+': 3.3,\n",
        "                'B': 3.0,\n",
        "                'B-': 2.7,\n",
        "                'C+': 2.3,\n",
        "                'C': 2.0,\n",
        "                'C-': 1.7,\n",
        "                'D+': 1.3,\n",
        "                'D': 1.0,\n",
        "                'D-': 0.7,\n",
        "                'F': 0.0}\n",
        "\n",
        "        with open(file_name,'r') as data:\n",
        "            get_next = next(csv.reader(data))\n",
        "            for line in csv.reader(data):\n",
        "                self.student_records[line[0]] = line[1:]\n",
        "    \n",
        "    def get_records(self, stu_name):\n",
        "        if stu_name in self.student_records.keys():\n",
        "            return self.student_records[stu_name]\n",
        "        else:\n",
        "            return \"No record for found!\"\n",
        "\n",
        "    def insert_record(self, student_record_list: List[str]):\n",
        "            self.student_records[student_record_list[0]] = student_record_list[1:]\n",
        "    \n",
        "    def compute_gpa(self, stu_name):\n",
        "        if stu_name in self.student_records.keys():\n",
        "            get_gpa = 0\n",
        "            for i in self.get_records(stu_name)[2:]:\n",
        "                get_gpa += self.GPA_scale[i]\n",
        "            return int(get_gpa)\n",
        "            \n",
        "        else:\n",
        "            return \"No record for found!\"\n",
        "\n",
        "    ## Write Code Here\n",
        "    \n",
        "\n",
        "student_record = Records('Copy of records.csv')\n",
        "print(student_record.get_records('Gary'))\n",
        "print(student_record.get_records('Manish'))\n",
        "student_record.insert_record(['Manish', 'CS', 'Graduate', 'A', 'A+', 'B+', 'A+'])\n",
        "print(student_record.get_records('Manish'))\n",
        "print(student_record.compute_gpa('Manish'))"
      ],
      "metadata": {
        "colab": {
          "base_uri": "https://localhost:8080/",
          "height": 369
        },
        "outputId": "5960290d-ff98-4e6b-af69-8340c9dcc6cb",
        "id": "jGsKJrw3rr3D"
      },
      "execution_count": null,
      "outputs": [
        {
          "output_type": "error",
          "ename": "FileNotFoundError",
          "evalue": "ignored",
          "traceback": [
            "\u001b[0;31m---------------------------------------------------------------------------\u001b[0m",
            "\u001b[0;31mFileNotFoundError\u001b[0m                         Traceback (most recent call last)",
            "\u001b[0;32m<ipython-input-14-4645ac8dca5b>\u001b[0m in \u001b[0;36m<module>\u001b[0;34m()\u001b[0m\n\u001b[1;32m     49\u001b[0m \u001b[0;34m\u001b[0m\u001b[0m\n\u001b[1;32m     50\u001b[0m \u001b[0;34m\u001b[0m\u001b[0m\n\u001b[0;32m---> 51\u001b[0;31m \u001b[0mstudent_record\u001b[0m \u001b[0;34m=\u001b[0m \u001b[0mRecords\u001b[0m\u001b[0;34m(\u001b[0m\u001b[0;34m'Copy of records.csv'\u001b[0m\u001b[0;34m)\u001b[0m\u001b[0;34m\u001b[0m\u001b[0;34m\u001b[0m\u001b[0m\n\u001b[0m\u001b[1;32m     52\u001b[0m \u001b[0mprint\u001b[0m\u001b[0;34m(\u001b[0m\u001b[0mstudent_record\u001b[0m\u001b[0;34m.\u001b[0m\u001b[0mget_records\u001b[0m\u001b[0;34m(\u001b[0m\u001b[0;34m'Gary'\u001b[0m\u001b[0;34m)\u001b[0m\u001b[0;34m)\u001b[0m\u001b[0;34m\u001b[0m\u001b[0;34m\u001b[0m\u001b[0m\n\u001b[1;32m     53\u001b[0m \u001b[0mprint\u001b[0m\u001b[0;34m(\u001b[0m\u001b[0mstudent_record\u001b[0m\u001b[0;34m.\u001b[0m\u001b[0mget_records\u001b[0m\u001b[0;34m(\u001b[0m\u001b[0;34m'Manish'\u001b[0m\u001b[0;34m)\u001b[0m\u001b[0;34m)\u001b[0m\u001b[0;34m\u001b[0m\u001b[0;34m\u001b[0m\u001b[0m\n",
            "\u001b[0;32m<ipython-input-14-4645ac8dca5b>\u001b[0m in \u001b[0;36m__init__\u001b[0;34m(self, file_name)\u001b[0m\n\u001b[1;32m     22\u001b[0m                 'F': 0.0}\n\u001b[1;32m     23\u001b[0m \u001b[0;34m\u001b[0m\u001b[0m\n\u001b[0;32m---> 24\u001b[0;31m         \u001b[0;32mwith\u001b[0m \u001b[0mopen\u001b[0m\u001b[0;34m(\u001b[0m\u001b[0mfile_name\u001b[0m\u001b[0;34m,\u001b[0m\u001b[0;34m'r'\u001b[0m\u001b[0;34m)\u001b[0m \u001b[0;32mas\u001b[0m \u001b[0mdata\u001b[0m\u001b[0;34m:\u001b[0m\u001b[0;34m\u001b[0m\u001b[0;34m\u001b[0m\u001b[0m\n\u001b[0m\u001b[1;32m     25\u001b[0m             \u001b[0mget_next\u001b[0m \u001b[0;34m=\u001b[0m \u001b[0mnext\u001b[0m\u001b[0;34m(\u001b[0m\u001b[0mcsv\u001b[0m\u001b[0;34m.\u001b[0m\u001b[0mreader\u001b[0m\u001b[0;34m(\u001b[0m\u001b[0mdata\u001b[0m\u001b[0;34m)\u001b[0m\u001b[0;34m)\u001b[0m\u001b[0;34m\u001b[0m\u001b[0;34m\u001b[0m\u001b[0m\n\u001b[1;32m     26\u001b[0m             \u001b[0;32mfor\u001b[0m \u001b[0mline\u001b[0m \u001b[0;32min\u001b[0m \u001b[0mcsv\u001b[0m\u001b[0;34m.\u001b[0m\u001b[0mreader\u001b[0m\u001b[0;34m(\u001b[0m\u001b[0mdata\u001b[0m\u001b[0;34m)\u001b[0m\u001b[0;34m:\u001b[0m\u001b[0;34m\u001b[0m\u001b[0;34m\u001b[0m\u001b[0m\n",
            "\u001b[0;31mFileNotFoundError\u001b[0m: [Errno 2] No such file or directory: 'Copy of records.csv'"
          ]
        }
      ]
    }
  ]
}