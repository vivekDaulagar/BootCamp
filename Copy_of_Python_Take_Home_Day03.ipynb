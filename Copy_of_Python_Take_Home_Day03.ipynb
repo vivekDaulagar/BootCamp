{
  "nbformat": 4,
  "nbformat_minor": 0,
  "metadata": {
    "colab": {
      "name": "Copy of Python-Take-Home-Day03.ipynb",
      "provenance": [],
      "collapsed_sections": []
    },
    "kernelspec": {
      "name": "python3",
      "display_name": "Python 3"
    },
    "language_info": {
      "name": "python"
    }
  },
  "cells": [
    {
      "cell_type": "markdown",
      "source": [
        "# **Problems**"
      ],
      "metadata": {
        "id": "KxSPHU5JRAsm"
      }
    },
    {
      "cell_type": "markdown",
      "source": [
        "## **Problem 01**\n",
        "\n",
        "### **Diamond Pattern**\n",
        "\n",
        "Construct a pattern like below with the given size.\n",
        "     \n",
        "        *\n",
        "       * *\n",
        "      * * *\n",
        "     * * * *\n",
        "    * * * * *\n",
        "     * * * *\n",
        "      * * *\n",
        "       * *\n",
        "        *\n"
      ],
      "metadata": {
        "id": "yXhiu3aSRC8R"
      }
    },
    {
      "cell_type": "code",
      "execution_count": null,
      "metadata": {
        "id": "Ztckq9TmQqtc",
        "colab": {
          "base_uri": "https://localhost:8080/"
        },
        "outputId": "7fd72cfb-78a0-4741-e741-c22e2a18bc91"
      },
      "outputs": [
        {
          "output_type": "stream",
          "name": "stdout",
          "text": [
            "     * \n",
            "\n",
            "    * * \n",
            "\n",
            "   * * * \n",
            "\n",
            "  * * * * \n",
            "\n",
            " * * * * * \n",
            "\n",
            "  * * * * \n",
            "\n",
            "   * * * \n",
            "\n",
            "    * * \n",
            "\n",
            "     * \n",
            "\n",
            "\n"
          ]
        }
      ],
      "source": [
        "def format_diamond_pattern(n: int) -> str:\n",
        "    ## Write Code Here\n",
        "  t=\"* \"\n",
        "  for i in range(1,n+1):\n",
        "    print(\" \"*(n-i),t*i)\n",
        "    print()\n",
        "  for i in range(1,n):\n",
        "    print(\" \"*(i),(n-i)*(t))\n",
        "    print()\n",
        "  return \"\"\n",
        "print(format_diamond_pattern(5))"
      ]
    },
    {
      "cell_type": "markdown",
      "source": [
        "## **Problem 02**\n",
        "\n",
        "### **Pyramid with \"+-+\" Pattern**\n",
        "\n",
        "Construct a pattern like below with the given size.\n",
        "\n",
        "        +\n",
        "       +-+\n",
        "      +---+\n",
        "     +-----+\n",
        "    +-------+\n"
      ],
      "metadata": {
        "id": "aTIHA1dxSuZu"
      }
    },
    {
      "cell_type": "code",
      "source": [
        "def format_plus_minus_pyramid(n: int) -> str:\n",
        "    ## Write Code Here\n",
        "    s=(n//2)\n",
        "    p=\"+\"\n",
        "    m=\"-\"\n",
        "    lst=[]\n",
        "    for j in range(1,n):\n",
        "      if(j%2!=0):\n",
        "        if(j==1):\n",
        "          res=p\n",
        "        elif(j>1):\n",
        "          t=m*(j-2)\n",
        "          res=p+t+p\n",
        "        lst.append(res)\n",
        "    for i in range(s):\n",
        "      print(\" \"*(s-i-1),(lst[i]))\n",
        "\n",
        "    return \"\"\n",
        "print(format_plus_minus_pyramid(15))"
      ],
      "metadata": {
        "id": "DFLgfGziTA59",
        "colab": {
          "base_uri": "https://localhost:8080/"
        },
        "outputId": "0d03c110-0514-42bb-9d96-cd052ddcf12a"
      },
      "execution_count": null,
      "outputs": [
        {
          "output_type": "stream",
          "name": "stdout",
          "text": [
            "       +\n",
            "      +-+\n",
            "     +---+\n",
            "    +-----+\n",
            "   +-------+\n",
            "  +---------+\n",
            " +-----------+\n",
            "\n"
          ]
        }
      ]
    }
  ]
}