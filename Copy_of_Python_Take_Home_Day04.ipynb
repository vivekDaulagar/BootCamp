{
  "nbformat": 4,
  "nbformat_minor": 0,
  "metadata": {
    "colab": {
      "name": "Copy of Python-Take-Home-Day04.ipynb",
      "provenance": [],
      "collapsed_sections": [
        "tNlmpzRg0m_g"
      ]
    },
    "kernelspec": {
      "name": "python3",
      "display_name": "Python 3"
    },
    "language_info": {
      "name": "python"
    }
  },
  "cells": [
    {
      "cell_type": "markdown",
      "source": [
        "# **Problems**"
      ],
      "metadata": {
        "id": "2xF0vbiW0lOZ"
      }
    },
    {
      "cell_type": "markdown",
      "source": [
        "## **Problem 01**\n",
        "\n",
        "### **Perfect squares with all digits even (using functional paradigm)**\n",
        "\n",
        "Find all 4-digit numbers that are perfect squares and have all four digits even.\n",
        "\n",
        "For example, 6400 is one such number.\n",
        "\n",
        "The expected output is ```[4624, 6084, 6400, 8464]```."
      ],
      "metadata": {
        "id": "tNlmpzRg0m_g"
      }
    },
    {
      "cell_type": "code",
      "execution_count": null,
      "metadata": {
        "id": "6Aw2DRjZ0gJ1",
        "colab": {
          "base_uri": "https://localhost:8080/"
        },
        "outputId": "6c3b8c46-b19e-4433-bd56-4cbeb90bdecf"
      },
      "outputs": [
        {
          "output_type": "stream",
          "name": "stdout",
          "text": [
            "[4624, 6084, 6400, 8464]\n"
          ]
        }
      ],
      "source": [
        "from typing import List\n",
        "\n",
        "def even_digit_perfect_squares() -> List[int]:\n",
        "    nlst=[]\n",
        "    ## Write Code here\n",
        "    for i in range(50,100):\n",
        "      x=int(pow(i,2))\n",
        "      s=str(x)\n",
        "      k=list(map(int,s))\n",
        "      if(isallEvenDigits(k)):\n",
        "        nlst.append(x)\n",
        "    return nlst\n",
        "\n",
        "def isallEvenDigits(lst):\n",
        "  flag=0\n",
        "  res=True\n",
        "  for i in range(len(lst)): \n",
        "    if(int(lst[i])%2!=0):\n",
        "      flag=1\n",
        "      res=False\n",
        "      break\n",
        "  return res\n",
        "print(even_digit_perfect_squares())\n"
      ]
    },
    {
      "cell_type": "markdown",
      "source": [
        "## **Problem 02**\n",
        "\n",
        "### **Pythagorean Triplet**\n",
        "\n",
        "If p is the perimeter of a right angle triangle with integral length sides, ```[a,b,c]```, there are exactly three solutions for ```p = 120```.\n",
        "\n",
        "```[20, 48, 52], [24, 45, 51], [30, 40, 50]```\n",
        "\n",
        "For which value of p ≤ 1000, is the number of solutions maximised?\n",
        "\n"
      ],
      "metadata": {
        "id": "y8qekle923fN"
      }
    },
    {
      "cell_type": "code",
      "source": [
        "def pythogorean_triplet(p):\n",
        "  lst=[]\n",
        "  for i in range(3,p//2):\n",
        "    string=\"\"\n",
        "    x=[]\n",
        "    for j in range(i+1,p//2):\n",
        "        c=((i**2)+(j**2))**(1/2)   \n",
        "        if(c.is_integer() and (i+j+c)==p):\n",
        "          x=[i,j,int(c)]\n",
        "          x.sort()\n",
        "          lst.append(x)\n",
        "  return lst\n",
        "\n",
        "def number_of_maximised_solution(n):\n",
        "  maxi=0\n",
        "  key=\"\"\n",
        "  \n",
        "  for i in range(10,n+1): \n",
        "    t=(pythogorean_triplet(i))\n",
        "    l=len(t)\n",
        "    string=str(t)\n",
        "    if(l>maxi):\n",
        "      maxi=l\n",
        "      key=string\n",
        "  print()\n",
        "  return (key)\n",
        "  \n",
        "number_of_maximised_solution(1000)\n",
        "\n",
        "\n",
        "\n",
        "\n"
      ],
      "metadata": {
        "id": "-TnqEycy2jXr",
        "colab": {
          "base_uri": "https://localhost:8080/",
          "height": 36
        },
        "outputId": "b2297bd3-c419-43a8-df07-52e397d3e12d"
      },
      "execution_count": null,
      "outputs": [
        {
          "output_type": "execute_result",
          "data": {
            "text/plain": [
              "'[[40, 399, 401], [56, 390, 394], [105, 360, 375], [120, 350, 370], [140, 336, 364], [168, 315, 357], [210, 280, 350], [240, 252, 348]]'"
            ],
            "application/vnd.google.colaboratory.intrinsic+json": {
              "type": "string"
            }
          },
          "metadata": {},
          "execution_count": 4
        }
      ]
    },
    {
      "cell_type": "code",
      "source": [
        "a = 30\n",
        "b = 40\n",
        "c = 50\n",
        "\n",
        "p = a + b + c\n",
        "p"
      ],
      "metadata": {
        "colab": {
          "base_uri": "https://localhost:8080/"
        },
        "id": "bsNLksVEuHxC",
        "outputId": "fb90f830-9ed4-4876-ca10-e76f4d13473e"
      },
      "execution_count": null,
      "outputs": [
        {
          "output_type": "execute_result",
          "data": {
            "text/plain": [
              "120"
            ]
          },
          "metadata": {},
          "execution_count": 6
        }
      ]
    },
    {
      "cell_type": "code",
      "source": [
        "a ** 2 + b ** 2 == c ** 2"
      ],
      "metadata": {
        "colab": {
          "base_uri": "https://localhost:8080/"
        },
        "id": "JhmGIp5KueuG",
        "outputId": "00c10aa4-112d-48c2-b7ef-b0de8a01defd"
      },
      "execution_count": null,
      "outputs": [
        {
          "output_type": "execute_result",
          "data": {
            "text/plain": [
              "True"
            ]
          },
          "metadata": {},
          "execution_count": 9
        }
      ]
    },
    {
      "cell_type": "code",
      "source": [
        "c ** 2"
      ],
      "metadata": {
        "colab": {
          "base_uri": "https://localhost:8080/"
        },
        "id": "ZqZgwD9ZusV2",
        "outputId": "f1fb0a16-0ef7-4546-c215-e2a5cd566bf0"
      },
      "execution_count": null,
      "outputs": [
        {
          "output_type": "execute_result",
          "data": {
            "text/plain": [
              "2500"
            ]
          },
          "metadata": {},
          "execution_count": 8
        }
      ]
    },
    {
      "cell_type": "code",
      "source": [
        "p = 1\n",
        "p = 2\n",
        ".\n",
        ".\n",
        ".920 -> 16\n",
        "p = 1000"
      ],
      "metadata": {
        "id": "-GxJJpqJutJT"
      },
      "execution_count": null,
      "outputs": []
    }
  ]
}