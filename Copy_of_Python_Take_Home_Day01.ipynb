{
  "nbformat": 4,
  "nbformat_minor": 0,
  "metadata": {
    "colab": {
      "name": "Copy of Python-Take-Home-Day01.ipynb",
      "provenance": [],
      "collapsed_sections": []
    },
    "kernelspec": {
      "name": "python3",
      "display_name": "Python 3"
    },
    "language_info": {
      "name": "python"
    }
  },
  "cells": [
    {
      "cell_type": "markdown",
      "source": [
        "# **Problems**"
      ],
      "metadata": {
        "id": "SmVT6alTtnbj"
      }
    },
    {
      "cell_type": "markdown",
      "source": [
        "## **Problem 01**\n",
        "\n",
        "### **ROT 13**\n",
        "\n",
        "Implement a function which accepts a string as an argument and generates the ROT13 Caesar Cipher.\n",
        "\n",
        "The ROT-13 (i.e. rotate by 13 places) method is a very simple encryption method, in which one replaces each letter of the alphabet with the 13th letter after it. So, ‘A’ becomes ‘N’, ‘B’ becomes ‘M’ and so on. This method is a special case of the Caesar Cipher, with which Caesar encoded his letters in the ancient Rome.\n",
        "\n",
        "Here is our approach for encoding a given string:\n",
        "\n",
        "* Check if given input has all valid characters, i.e every character is an  alphabet [a - z or A - Z] - function is_string() returns \"True\" if the char is an alphabet.\n",
        "\n",
        "* As the next step we need to add 13 to  character and encode the character- rot13() returns the encoded character of the input character\n",
        "\n",
        "* Now we generate the encoded string using the function - generate_encrypted_string() which returns encoded string"
      ],
      "metadata": {
        "id": "-Z-SQc_TtpW_"
      }
    },
    {
      "cell_type": "code",
      "source": [
        "\n",
        "def rot13(text: str) -> str:\n",
        "  shift=13\n",
        "  cipher=\"\"\n",
        "  string=text\n",
        "  lst1=['a','b','c','d','e','f','g','h','i','j','k','l','m','n','o','p','q','r','s','t','u','v','w','x','y','z','a','b','c','d','e','f','g','h','i','j','k','l','m','n','o','p','q','r','s','t','u','v','w','x','y','z']\n",
        "  lst2=['A','B','C','D','E','F','G','H','I','J','K','L','M','N','O','P','Q','R','S','T','U','V','W','X','Y','Z','A','B','C','D','E','F','G','H','I','J','K','L','M','N','O','P','Q','R','S','T','U','V','W','X','Y','Z']\n",
        "  for i in range(len(string)):\n",
        "    if(string[i].isalpha()):\n",
        "      if(string[i].islower()):\n",
        "        t=lst1.index(string[i])\n",
        "        t=t+shift\n",
        "        cipher=cipher+lst1[t]\n",
        "      else:\n",
        "        t=lst2.index(string[i])\n",
        "        t=t+shift\n",
        "        cipher=cipher+lst2[t]\n",
        "    elif(string[i].isspace()):\n",
        "      cipher=cipher+\" \"\n",
        "\n",
        "  return cipher\n",
        "\n",
        "rot13(\"NPCI2022Talentsprint\")"
      ],
      "metadata": {
        "id": "E-khPwScNUJc",
        "outputId": "95e8812a-05f4-4128-cece-fffa23d25611",
        "colab": {
          "base_uri": "https://localhost:8080/",
          "height": 36
        }
      },
      "execution_count": null,
      "outputs": [
        {
          "output_type": "execute_result",
          "data": {
            "text/plain": [
              "'ACPVGnyragfcevag'"
            ],
            "application/vnd.google.colaboratory.intrinsic+json": {
              "type": "string"
            }
          },
          "metadata": {},
          "execution_count": 1
        }
      ]
    },
    {
      "cell_type": "markdown",
      "source": [
        "## **Problem 02**\n",
        "\n",
        "### **Find Intersection**\n",
        "\n",
        "Write a function, find_intersection(), that reads a list of two strings:\n",
        "\n",
        "* The first is a list of comma-separated numbers sorted in ascending order\n",
        "* The second element is another list of comma-separated numbers (also sorted)\n",
        "\n",
        "Your goal is to return a string of numbers that occur in both elements of the input list in sorted order. If there is no intersection, return the string **\"No Intersection\"**\n",
        "\n",
        "**Sample Input 1:**\n",
        "\n",
        "[\"1, 3, 4, 7, 13\", \"1, 2, 4, 13, 15\"]\n",
        "\n",
        "**Sample Output 1:**\n",
        "\n",
        "\"1, 4, 13\"\n",
        "\n",
        "**Sample Input 2:**\n",
        "\n",
        "[\"11, 32, 43, 72, 138\", \"12, 26, 24, 113, 150\"]\n",
        "\n",
        "**Sample Output 2:**\n",
        "\n",
        "\"No Intersection\""
      ],
      "metadata": {
        "id": "rN6PPZJmwbND"
      }
    },
    {
      "cell_type": "code",
      "source": [
        "from typing import List\n",
        "\n",
        "def find_intersection(arr: List[str]) -> str:\n",
        "  lst1=arr[0]\n",
        "  lst2=arr[1]\n",
        "  lst1=lst1.split(\",\")\n",
        "  lst2=lst2.split(\",\")\n",
        "  lst3=[]\n",
        "  res=\"\"\n",
        "  for i in range(len(lst1)):\n",
        "    for j in range(len(lst2)):\n",
        "      if(lst1[i]==lst2[j]):\n",
        "        lst3.append(lst1[i])\n",
        "  for (i) in lst3:\n",
        "      res=res+i\n",
        "  res=res.replace(\" \",\",\")\n",
        "  \n",
        "  if(len(res)==0):\n",
        "    res=\"No Intersection\"\n",
        "  return(res)\n",
        "\n",
        "find_intersection([\"11, 32, 43, 72, 138\", \"12, 26, 24, 113, 150\"])"
      ],
      "metadata": {
        "id": "bJhXOaZFxYBu",
        "outputId": "eb16dc16-7b78-4bb2-d6e0-be5a84c8aa2e",
        "colab": {
          "base_uri": "https://localhost:8080/",
          "height": 35
        }
      },
      "execution_count": null,
      "outputs": [
        {
          "output_type": "execute_result",
          "data": {
            "text/plain": [
              "'No Intersection'"
            ],
            "application/vnd.google.colaboratory.intrinsic+json": {
              "type": "string"
            }
          },
          "metadata": {},
          "execution_count": 34
        }
      ]
    }
  ]
}